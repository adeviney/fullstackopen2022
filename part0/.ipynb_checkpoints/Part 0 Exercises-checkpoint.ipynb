{
 "cells": [
  {
   "cell_type": "markdown",
   "id": "4d5dff82",
   "metadata": {},
   "source": [
    "# Exercises 0.1.-0.6.\n",
    "## 0.1: HTML\n",
    "Review the basics of HTML by reading this tutorial from Mozilla: [HTML tutorial](https://developer.mozilla.org/en-US/docs/Learn/Getting_started_with_the_web/HTML_basics).\n",
    "\n",
    "## 0.2: CSS\n",
    "Review the basics of CSS by reading this tutorial from Mozilla: [CSS tutorial](https://developer.mozilla.org/en-US/docs/Learn/Getting_started_with_the_web/CSS_basics).\n",
    "\n",
    "## 0.3: HTML forms\n",
    "Learn about the basics of HTML forms by reading Mozilla's tutorial [Your first form](https://developer.mozilla.org/en-US/docs/Learn/HTML/Forms/Your_first_HTML_form).\n",
    "\n",
    "## 0.4: New note\n",
    "Create a similar diagram depicting the situation where the user creates a new note on page https://studies.cs.helsinki.fi/exampleapp/notes when writing something into the text field and clicking the submit button.\n",
    "![png](04newnote.png)\n",
    "\n",
    "## 0.5 Single page app\n",
    "Create a diagram depicting the situation where the user goes to the single page app version of the notes app at https://studies.cs.helsinki.fi/exampleapp/spa.\n",
    "![png](05spa_loadnotes.png)\n",
    "\n",
    "## 0.6: New note\n",
    "0.6: New note\n",
    "Create a diagram depicting the situation where the user creates a new note using the single page version of the app.\n",
    "![png](06newnote_spa.png)"
   ]
  }
 ],
 "metadata": {
  "kernelspec": {
   "display_name": "Python (dojo-env)",
   "language": "python",
   "name": "dojo-env"
  },
  "language_info": {
   "codemirror_mode": {
    "name": "ipython",
    "version": 3
   },
   "file_extension": ".py",
   "mimetype": "text/x-python",
   "name": "python",
   "nbconvert_exporter": "python",
   "pygments_lexer": "ipython3",
   "version": "3.7.12"
  },
  "toc": {
   "base_numbering": 1,
   "nav_menu": {},
   "number_sections": false,
   "sideBar": true,
   "skip_h1_title": false,
   "title_cell": "Table of Contents",
   "title_sidebar": "Contents",
   "toc_cell": false,
   "toc_position": {},
   "toc_section_display": true,
   "toc_window_display": true
  }
 },
 "nbformat": 4,
 "nbformat_minor": 5
}
